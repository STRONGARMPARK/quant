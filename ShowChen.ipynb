{
 "cells": [
  {
   "cell_type": "markdown",
   "id": "aa0ae60d",
   "metadata": {},
   "source": [
    "# IMPORTS"
   ]
  },
  {
   "cell_type": "code",
   "execution_count": 1,
   "id": "ec4c3c2f",
   "metadata": {},
   "outputs": [],
   "source": [
    "# TWS/IBAPI related stuff\n",
    "from ibapi.client import EClient \n",
    "from ibapi.wrapper import EWrapper\n",
    "from ibapi.contract import Contract\n",
    "\n",
    "# Operational modules#\n",
    "import matplotlib.pyplot as plt\n",
    "import pandas as pd \n",
    "import numpy as np\n",
    "import threading\n",
    "import time "
   ]
  },
  {
   "cell_type": "markdown",
   "id": "23807394",
   "metadata": {},
   "source": [
    "# OPERATORS"
   ]
  },
  {
   "cell_type": "code",
   "execution_count": 2,
   "id": "3e16cf1b",
   "metadata": {},
   "outputs": [],
   "source": [
    "def ts_delay(var, days):\n",
    "    if days > 0:\n",
    "        rolled = np.roll(var, days)\n",
    "        rolled[:, :days] = np.nan\n",
    "        return rolled\n",
    "    else:\n",
    "        rolled = np.roll(var, days)\n",
    "        rolled[:, days:] = np.nan\n",
    "        return rolled"
   ]
  },
  {
   "cell_type": "markdown",
   "id": "04e21ee1",
   "metadata": {},
   "source": [
    "# CONSTANTS"
   ]
  },
  {
   "cell_type": "code",
   "execution_count": 6,
   "id": "91e5f0f4",
   "metadata": {},
   "outputs": [],
   "source": [
    "listOfTickers = [\"AAPL\", \"MSFT\", \"AMZN\", \"FB\", \"TSLA\"]"
   ]
  },
  {
   "cell_type": "markdown",
   "id": "022a8815",
   "metadata": {},
   "source": [
    "# DATA FUNCTIONS"
   ]
  },
  {
   "cell_type": "code",
   "execution_count": 5,
   "id": "47c6dec8",
   "metadata": {},
   "outputs": [],
   "source": [
    "def makeNasdaqContract(symbol, secType = \"STK\", exchange = \"SMART\", primaryExchange = \"NASDAQ\", currency = \"USD\"):\n",
    "    contract = Contract()\n",
    "    contract.symbol = symbol\n",
    "    contract.secType = secType\n",
    "    contract.exchange = exchange\n",
    "    contract.primaryExchange = primaryExchange\n",
    "    contract.currency = currency\n",
    "    return contract\n",
    "\n",
    "def getHistData(reqId, \n",
    "                contract, \n",
    "                durationStr,\n",
    "                barSizeSetting, \n",
    "                whatToShow, \n",
    "                endDateTime = \"\", \n",
    "                useRTH = 1, \n",
    "                formatDate = 1, \n",
    "                keepUpToDate = 0,\n",
    "                chartOptions = []):\n",
    "    \n",
    "    app.reqHistoricalData(reqId = reqId,\n",
    "                          contract = contract,\n",
    "                          endDateTime = endDateTime,\n",
    "                          durationStr = durationStr,\n",
    "                          barSizeSetting = barSizeSetting,\n",
    "                          whatToShow = whatToShow,\n",
    "                          useRTH = useRTH,\n",
    "                          formatDate = formatDate,\n",
    "                          keepUpToDate = keepUpToDate,\n",
    "                          chartOptions = chartOptions)\n",
    "    \n",
    "def getHistDataMultiple(lst, time = \"1 M\", granularity = \"5 mins\", infoType = \"MIDPOINT\"):\n",
    "    for i in range(len(lst)):\n",
    "        ticker = lst[i]\n",
    "        getHistData(i, makeNasdaqContract(ticker), time, granularity, infoType)\n",
    "    return 0;\n",
    "\n",
    "def getHistDataMultipleLast(lst, time = \"1 M\", granularity = \"5 mins\", infoType = \"MIDPOINT\"):\n",
    "    for i in range(len(lst)):\n",
    "        ticker = lst[i]\n",
    "        getHistData(i, makeNasdaqContract(ticker), time, granularity, infoType, endDateTime = \"20210819 00:00:00 EST\")\n",
    "    return 0;"
   ]
  },
  {
   "cell_type": "markdown",
   "id": "771d0f51",
   "metadata": {},
   "source": [
    "# MAKING CONNECTION AND GETTING DATA"
   ]
  },
  {
   "cell_type": "code",
   "execution_count": 13,
   "id": "aa6b057b",
   "metadata": {},
   "outputs": [
    {
     "name": "stderr",
     "output_type": "stream",
     "text": [
      "ERROR -1 2104 Market data farm connection is OK:hfarm\n",
      "ERROR -1 2104 Market data farm connection is OK:usfarm.nj\n",
      "ERROR -1 2104 Market data farm connection is OK:jfarm\n",
      "ERROR -1 2104 Market data farm connection is OK:eufarm\n",
      "ERROR -1 2104 Market data farm connection is OK:usfuture\n",
      "ERROR -1 2104 Market data farm connection is OK:cashfarm\n",
      "ERROR -1 2104 Market data farm connection is OK:cafarm\n",
      "ERROR -1 2104 Market data farm connection is OK:usfarm\n",
      "ERROR -1 2106 HMDS data farm connection is OK:euhmds\n",
      "ERROR -1 2106 HMDS data farm connection is OK:ushmds.nj\n",
      "ERROR -1 2106 HMDS data farm connection is OK:fundfarm\n",
      "ERROR -1 2106 HMDS data farm connection is OK:ushmds\n",
      "ERROR -1 2158 Sec-def data farm connection is OK:secdefil\n"
     ]
    },
    {
     "name": "stdout",
     "output_type": "stream",
     "text": [
      "149.68\n",
      "305.49\n",
      "3288.725\n",
      "364.135\n",
      "710.555\n"
     ]
    }
   ],
   "source": [
    "class App(EClient, EWrapper):\n",
    "    def __init__(self):\n",
    "        EClient.__init__(self,self)\n",
    "        self.data = {}\n",
    "        \n",
    "    def historicalData(self, reqId, bar):\n",
    "        if reqId not in self.data:\n",
    "            self.data[reqId] = [bar.close]\n",
    "            print(bar.close)\n",
    "        else:\n",
    "            self.data[reqId].append(bar.close)\n",
    "    \n",
    "def socketConnection():\n",
    "    app.run()\n",
    "            \n",
    "app = App()\n",
    "app.connect(\"127.0.0.1\", 7497, 1)\n",
    "socketThread = threading.Thread(target = socketConnection, daemon = True)\n",
    "socketThread.start()\n",
    "time.sleep(1)\n",
    "\n",
    "getHistDataMultiple(listOfTickers, \"1 M\", \"1 min\", \"MIDPOINT\")\n",
    "\n",
    "time.sleep(100)\n",
    "app.disconnect()"
   ]
  },
  {
   "cell_type": "code",
   "execution_count": null,
   "id": "f225dfa3",
   "metadata": {},
   "outputs": [],
   "source": [
    "app.disconnect()"
   ]
  },
  {
   "cell_type": "markdown",
   "id": "664449ff",
   "metadata": {},
   "source": [
    "# GETTING DATA FROM LAST MONTH"
   ]
  },
  {
   "cell_type": "code",
   "execution_count": 60,
   "id": "873e465e",
   "metadata": {},
   "outputs": [
    {
     "name": "stderr",
     "output_type": "stream",
     "text": [
      "ERROR -1 2104 Market data farm connection is OK:hfarm\n",
      "ERROR -1 2104 Market data farm connection is OK:usfarm.nj\n",
      "ERROR -1 2104 Market data farm connection is OK:eufarm\n",
      "ERROR -1 2104 Market data farm connection is OK:jfarm\n",
      "ERROR -1 2104 Market data farm connection is OK:usfuture\n",
      "ERROR -1 2104 Market data farm connection is OK:cashfarm\n",
      "ERROR -1 2104 Market data farm connection is OK:cafarm\n",
      "ERROR -1 2104 Market data farm connection is OK:usfarm\n",
      "ERROR -1 2106 HMDS data farm connection is OK:euhmds\n",
      "ERROR -1 2106 HMDS data farm connection is OK:ushmds.nj\n",
      "ERROR -1 2106 HMDS data farm connection is OK:fundfarm\n",
      "ERROR -1 2106 HMDS data farm connection is OK:ushmds\n",
      "ERROR -1 2158 Sec-def data farm connection is OK:secdefil\n"
     ]
    },
    {
     "name": "stdout",
     "output_type": "stream",
     "text": [
      "144.0\n",
      "337.84\n",
      "3564.98\n",
      "277.945\n",
      "649.77\n"
     ]
    }
   ],
   "source": [
    "class App(EClient, EWrapper):\n",
    "    def __init__(self):\n",
    "        EClient.__init__(self,self)\n",
    "        self.data = {}\n",
    "        \n",
    "    def historicalData(self, reqId, bar):\n",
    "        if reqId not in self.data:\n",
    "            self.data[reqId] = [bar.close]\n",
    "            print(bar.close)\n",
    "        else:\n",
    "            self.data[reqId].append(bar.close)\n",
    "    \n",
    "def socketConnection():\n",
    "    app2.run()\n",
    "            \n",
    "app2 = App()\n",
    "app2.connect(\"127.0.0.1\", 7497, 1)\n",
    "socketThread = threading.Thread(target = socketConnection, daemon = True)\n",
    "socketThread.start()\n",
    "time.sleep(1)\n",
    "\n",
    "getHistDataMultipleLast(listOfTickers, \"1 M\", \"1 min\", \"MIDPOINT\")\n",
    "\n",
    "time.sleep(100)\n",
    "app2.disconnect()"
   ]
  },
  {
   "cell_type": "markdown",
   "id": "0c8c948f",
   "metadata": {},
   "source": [
    "# TURNING DATA INTO NUMPY FORM"
   ]
  },
  {
   "cell_type": "code",
   "execution_count": 38,
   "id": "7980b1e1",
   "metadata": {},
   "outputs": [],
   "source": [
    "data = np.zeros(len(app.data[0]))\n",
    "\n",
    "for i in range(len(listOfTickers)):\n",
    "    data = np.vstack((data, app.data[i]))\n",
    "    \n",
    "close = data[1:]"
   ]
  },
  {
   "cell_type": "markdown",
   "id": "81b8d535",
   "metadata": {},
   "source": [
    "# TESTING MOMENTUM"
   ]
  },
  {
   "cell_type": "code",
   "execution_count": 57,
   "id": "cb651119",
   "metadata": {},
   "outputs": [
    {
     "data": {
      "image/png": "[encoded data removed]",
      "text/plain": [
       "<Figure size 432x288 with 1 Axes>"
      ]
     },
     "metadata": {
      "needs_background": "light"
     },
     "output_type": "display_data"
    }
   ],
   "source": [
    "reversion = np.sign(((close - ts_delay(close, 1))/ts_delay(close, 1)))\n",
    "future_returns = (ts_delay(close, -1) - close)/close\n",
    "pnl1 = reversion * future_returns\n",
    "pnl2 = np.sum(pnl1, axis = 0)\n",
    "pnl = np.cumsum(np.nan_to_num(pnl2))\n",
    "plt.plot(pnl)\n",
    "plt.show()"
   ]
  },
  {
   "cell_type": "markdown",
   "id": "d1406dcf",
   "metadata": {},
   "source": [
    "# CROSS VALIDATION ON LAST MONTH"
   ]
  },
  {
   "cell_type": "code",
   "execution_count": 62,
   "id": "7ecc9799",
   "metadata": {},
   "outputs": [
    {
     "data": {
      "image/png": "[encoded data removed]",
      "text/plain": [
       "<Figure size 432x288 with 1 Axes>"
      ]
     },
     "metadata": {
      "needs_background": "light"
     },
     "output_type": "display_data"
    }
   ],
   "source": [
    "reversion = np.sign(((close - ts_delay(close, 1))/ts_delay(close, 1)))\n",
    "future_returns = (ts_delay(close, -1) - close)/close\n",
    "pnl1_prev = reversion * future_returns\n",
    "pnl2_prev = np.sum(pnl1_prev, axis = 0)\n",
    "pnl = np.cumsum(np.nan_to_num(pnl2))\n",
    "plt.plot(pnl)\n",
    "plt.show()"
   ]
  },
  {
   "cell_type": "markdown",
   "id": "a7841c92",
   "metadata": {},
   "source": [
    "# TESTING MOD"
   ]
  },
  {
   "cell_type": "code",
   "execution_count": 24,
   "id": "7933176e",
   "metadata": {},
   "outputs": [
    {
     "data": {
      "image/png": "[encoded data removed]",
      "text/plain": [
       "<Figure size 432x288 with 1 Axes>"
      ]
     },
     "metadata": {
      "needs_background": "light"
     },
     "output_type": "display_data"
    }
   ],
   "source": [
    "alpha = -(close % 1.0) + 0.5\n",
    "future_returns = (ts_delay(close, -1) - close)/close\n",
    "multiplied = alpha * future_returns \n",
    "summed = np.sum(multiplied, axis = 0)\n",
    "plt.plot(np.cumsum(np.nan_to_num(summed)))\n",
    "plt.show()"
   ]
  },
  {
   "cell_type": "code",
   "execution_count": 25,
   "id": "a7d66cad",
   "metadata": {},
   "outputs": [
    {
     "data": {
      "text/plain": [
       "array([[ 149.68 ,  149.855,  149.86 , ...,  145.955,  145.825,  145.825],\n",
       "       [ 305.49 ,  305.18 ,  304.955, ...,  298.55 ,  298.43 ,  298.555],\n",
       "       [3288.725, 3289.67 , 3284.06 , ..., 3382.47 , 3380.87 , 3380.745],\n",
       "       [ 364.135,  363.445,  362.865, ...,  342.365,  342.67 ,  343.13 ],\n",
       "       [ 710.555,  708.27 ,  707.535, ...,  752.085,  751.715,  751.815]])"
      ]
     },
     "execution_count": 25,
     "metadata": {},
     "output_type": "execute_result"
    }
   ],
   "source": [
    "close "
   ]
  },
  {
   "cell_type": "code",
   "execution_count": 37,
   "id": "cbca8c16",
   "metadata": {},
   "outputs": [
    {
     "data": {
      "text/plain": [
       "(5, 328)"
      ]
     },
     "execution_count": 37,
     "metadata": {},
     "output_type": "execute_result"
    }
   ],
   "source": [
    "close2 = close[:, 0::5]\n",
    "close2.shape"
   ]
  },
  {
   "cell_type": "code",
   "execution_count": 42,
   "id": "199a6777",
   "metadata": {},
   "outputs": [],
   "source": [
    "close.shape\n",
    "cclose = close.copy()"
   ]
  },
  {
   "cell_type": "code",
   "execution_count": 69,
   "id": "12124b63",
   "metadata": {},
   "outputs": [],
   "source": [
    "close_every_5 = cclose[:,0::5]"
   ]
  },
  {
   "cell_type": "code",
   "execution_count": 44,
   "id": "b076d1c0",
   "metadata": {},
   "outputs": [
    {
     "data": {
      "text/plain": [
       "(5, 1638)"
      ]
     },
     "execution_count": 44,
     "metadata": {},
     "output_type": "execute_result"
    }
   ],
   "source": [
    "close_every_5.shape"
   ]
  },
  {
   "cell_type": "code",
   "execution_count": 45,
   "id": "7a672d85",
   "metadata": {},
   "outputs": [
    {
     "data": {
      "text/plain": [
       "(5, 8190)"
      ]
     },
     "execution_count": 45,
     "metadata": {},
     "output_type": "execute_result"
    }
   ],
   "source": [
    "close.shape"
   ]
  },
  {
   "cell_type": "code",
   "execution_count": 71,
   "id": "e2469e38",
   "metadata": {},
   "outputs": [
    {
     "data": {
      "image/png": "[encoded data removed]",
      "text/plain": [
       "<Figure size 432x288 with 1 Axes>"
      ]
     },
     "metadata": {
      "needs_background": "light"
     },
     "output_type": "display_data"
    }
   ],
   "source": [
    "reversion = np.sign(-((close_every_5 - ts_delay(close_every_5, 1))/ts_delay(close_every_5, 1)))\n",
    "future_returns = (ts_delay(close_every_5, -1) - close_every_5)/close_every_5\n",
    "pnl1 = reversion * future_returns\n",
    "pnl2 = np.sum(pnl1, axis = 0)\n",
    "pnl = np.cumsum(np.nan_to_num(pnl2))\n",
    "plt.plot(pnl)\n",
    "plt.show()"
   ]
  },
  {
   "cell_type": "code",
   "execution_count": 72,
   "id": "58db82f9",
   "metadata": {},
   "outputs": [
    {
     "data": {
      "image/png": "[encoded data removed]",
      "text/plain": [
       "<Figure size 432x288 with 1 Axes>"
      ]
     },
     "metadata": {
      "needs_background": "light"
     },
     "output_type": "display_data"
    }
   ],
   "source": [
    "alpha = (close_every_5 % 1.0) - 0.5\n",
    "future_returns = (ts_delay(close_every_5, -1) - close_every_5)/close_every_5\n",
    "multiplied = alpha * future_returns \n",
    "summed = np.sum(multiplied, axis = 0)\n",
    "plt.plot(np.cumsum(np.nan_to_num(summed)))\n",
    "plt.show()"
   ]
  },
  {
   "cell_type": "code",
   "execution_count": 73,
   "id": "81ead452",
   "metadata": {},
   "outputs": [
    {
     "data": {
      "image/png": "[encoded data removed]",
      "text/plain": [
       "<Figure size 432x288 with 1 Axes>"
      ]
     },
     "metadata": {
      "needs_background": "light"
     },
     "output_type": "display_data"
    }
   ],
   "source": [
    "sume = summed + pnl2\n",
    "plt.plot(np.cumsum(np.nan_to_num(sume)))\n",
    "plt.show()"
   ]
  },
  {
   "cell_type": "code",
   "execution_count": 75,
   "id": "94830952",
   "metadata": {},
   "outputs": [
    {
     "name": "stdout",
     "output_type": "stream",
     "text": [
      "0.07138784063171949\n"
     ]
    }
   ],
   "source": [
    "meansume = np.mean(sume)\n",
    "ir = np.nanmean(sume)/np.nanstd(sume)\n",
    "print(ir)"
   ]
  },
  {
   "cell_type": "code",
   "execution_count": null,
   "id": "94a0cf09",
   "metadata": {},
   "outputs": [],
   "source": []
  }
 ],
 "metadata": {
  "kernelspec": {
   "display_name": "Python 3",
   "language": "python",
   "name": "python3"
  },
  "language_info": {
   "codemirror_mode": {
    "name": "ipython",
    "version": 3
   },
   "file_extension": ".py",
   "mimetype": "text/x-python",
   "name": "python",
   "nbconvert_exporter": "python",
   "pygments_lexer": "ipython3",
   "version": "3.8.8"
  }
 },
 "nbformat": 4,
 "nbformat_minor": 5
}
